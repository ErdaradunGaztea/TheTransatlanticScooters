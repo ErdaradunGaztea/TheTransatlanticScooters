{
 "cells": [
  {
   "cell_type": "code",
   "execution_count": 1,
   "id": "5dc6de35",
   "metadata": {},
   "outputs": [],
   "source": [
    "from pyspark.sql import SparkSession\n",
    "from pyspark.sql.types import *\n",
    "from pyspark.sql.functions import *\n",
    "from pyspark.conf import SparkConf\n",
    "spark = SparkSession.builder.appName(\"Weather\") \\\n",
    "        .config(\"spark.dynamicAllocation.enabled\", \"false\") \\\n",
    "        .config(\"spark.executor.memory\",\"1000m\") \\\n",
    "        .getOrCreate()"
   ]
  },
  {
   "cell_type": "code",
   "execution_count": 2,
   "id": "e46792c2",
   "metadata": {},
   "outputs": [],
   "source": [
    "import os\n",
    "os.environ['PYSPARK_SUBMIT_ARGS'] = '--packages org.apache.spark:spark-sql-kafka-0-10_2.12:3.1.2 pyspark-shell'"
   ]
  },
  {
   "cell_type": "code",
   "execution_count": 3,
   "id": "c4d2d218",
   "metadata": {},
   "outputs": [],
   "source": [
    "schema = StructType([\n",
    "    StructField('dt', IntegerType()),\n",
    "    StructField('main.temp', FloatType()),\n",
    "    StructField('main.pressure', IntegerType()),\n",
    "    StructField('main.humidity', IntegerType()),\n",
    "    StructField('visibility', IntegerType()),\n",
    "    StructField('wind.speed', FloatType()),\n",
    "    StructField('clouds.all', IntegerType()),\n",
    "    StructField('rain.3h', FloatType(), False),\n",
    "    StructField('snow.3h', FloatType(), False),\n",
    "    StructField('pop', FloatType())\n",
    "])"
   ]
  },
  {
   "cell_type": "code",
   "execution_count": null,
   "id": "3c1d3fad",
   "metadata": {
    "scrolled": false
   },
   "outputs": [
    {
     "name": "stderr",
     "output_type": "stream",
     "text": [
      "22/01/16 19:24:44 WARN org.apache.spark.sql.streaming.StreamingQueryManager: spark.sql.adaptive.enabled is not supported in streaming DataFrames/Datasets and will be disabled.\n",
      "                                                                                \r"
     ]
    }
   ],
   "source": [
    "df = spark \\\n",
    "    .readStream \\\n",
    "    .format(\"kafka\") \\\n",
    "    .option(\"kafka.bootstrap.servers\", \"instance-tram-1:9092\") \\\n",
    "    .option(\"subscribe\", \"weather_data_processed\") \\\n",
    "    .option(\"failOnDataLoss\", \"false\") \\\n",
    "    .load()\n",
    "table = df.selectExpr(\"CAST(key AS STRING)\",\"CAST(value AS STRING)\").select(from_json('value', schema).alias('tmp')).select('tmp.*')\n",
    "df_kafka = table\\\n",
    "    .withColumn('value', to_json(struct(table[\"`dt`\"], table[\"`main.temp`\"], table[\"`main.pressure`\"], table[\"`main.humidity`\"], table[\"`visibility`\"],\n",
    "                                       table[\"`wind.speed`\"], table[\"`clouds.all`\"], table[\"`rain.3h`\"], table[\"`snow.3h`\"], table[\"`pop`\"])))\n",
    "query = df_kafka.writeStream \\\n",
    "    .format(\"kafka\") \\\n",
    "    .option(\"kafka.bootstrap.servers\", \"instance-tram-1:9092\") \\\n",
    "    .option(\"topic\", \"weather-aggregates\") \\\n",
    "    .option(\"checkpointLocation\", \"~/agg_checkpoint/\") \\\n",
    "    .start() \\\n",
    "    .awaitTermination()"
   ]
  },
  {
   "cell_type": "code",
   "execution_count": 14,
   "id": "d51ba1fc",
   "metadata": {
    "scrolled": true
   },
   "outputs": [],
   "source": [
    "spark.stop()"
   ]
  },
  {
   "cell_type": "code",
   "execution_count": null,
   "id": "cf870b68",
   "metadata": {},
   "outputs": [],
   "source": []
  }
 ],
 "metadata": {
  "kernelspec": {
   "display_name": "PySpark",
   "language": "python",
   "name": "pyspark"
  },
  "language_info": {
   "codemirror_mode": {
    "name": "ipython",
    "version": 3
   },
   "file_extension": ".py",
   "mimetype": "text/x-python",
   "name": "python",
   "nbconvert_exporter": "python",
   "pygments_lexer": "ipython3",
   "version": "3.8.12"
  }
 },
 "nbformat": 4,
 "nbformat_minor": 5
}
